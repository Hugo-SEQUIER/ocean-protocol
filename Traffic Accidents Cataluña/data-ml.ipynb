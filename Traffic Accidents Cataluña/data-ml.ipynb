{
 "cells": [
  {
   "cell_type": "code",
   "execution_count": 1,
   "metadata": {},
   "outputs": [],
   "source": [
    "import pandas as pd\n",
    "from lazypredict.Supervised import LazyRegressor\n",
    "from sklearn.model_selection import train_test_split\n",
    "from sklearn.preprocessing import StandardScaler"
   ]
  },
  {
   "cell_type": "code",
   "execution_count": 2,
   "metadata": {},
   "outputs": [],
   "source": [
    "def corriger_encodage(df):\n",
    "    # Fonction pour corriger l'encodage d'une chaîne de caractères\n",
    "    def corriger_chaine(chaine):\n",
    "        if isinstance(chaine, str):\n",
    "            try:\n",
    "                return chaine.encode('latin1').decode('utf-8')\n",
    "            except UnicodeEncodeError:\n",
    "                return chaine\n",
    "        return chaine\n",
    "\n",
    "    # Corriger les valeurs dans le DataFrame\n",
    "    for col in df.columns:\n",
    "        df[col] = df[col].apply(corriger_chaine)\n",
    "\n",
    "    # Corriger les noms de colonnes\n",
    "    df.columns = [corriger_chaine(col) for col in df.columns]\n",
    "\n",
    "    return df"
   ]
  },
  {
   "cell_type": "code",
   "execution_count": 3,
   "metadata": {},
   "outputs": [],
   "source": [
    "df = corriger_encodage(pd.read_csv('./data/traffic_to_ml.csv', encoding='unicode_escape').drop(columns=[\"Unnamed: 0\"]))"
   ]
  },
  {
   "cell_type": "code",
   "execution_count": 4,
   "metadata": {},
   "outputs": [],
   "source": [
    "scaler = StandardScaler()\n",
    "numerical_cols = df.select_dtypes(include=['float64', 'int64']).columns"
   ]
  },
  {
   "cell_type": "code",
   "execution_count": 5,
   "metadata": {},
   "outputs": [
    {
     "data": {
      "text/plain": [
       "Index(['Year', 'Area', 'Date', 'Road', 'Municipality Name', 'County Name',\n",
       "       'Province Name', 'Fatalties', 'Serious Injuries', 'Light Injuries',\n",
       "       'Total Victims', 'Units Involved', 'Pedestrains Involved',\n",
       "       'Bicycles Involved', 'Mopeds Involved', 'Motorcycles',\n",
       "       'Light Vehicles Involved', 'Heavy Vehicles Involved',\n",
       "       'Other Units Involved', 'Unspecified Units Involved',\n",
       "       'Road Speed Limit', 'Accident with Hit and Run', 'Fog Presence',\n",
       "       'Surrounding Environment', 'Special Lane Presence',\n",
       "       'Special Traffic Measures', 'Weather Conditions',\n",
       "       'Special Road Functions', 'Severity of Accident', 'Influence of Fog',\n",
       "       'Influence of Environment', 'Influence of Traffic',\n",
       "       'Influence of Weather', 'Influence of Wind Intensity',\n",
       "       'Influence of Lighting', 'Influence of Special Measures',\n",
       "       'Influence of Road Objects', 'Influence of Road Surface',\n",
       "       'Influence of Visibility', 'Intersection Characteristics',\n",
       "       'Lighting Conditions', 'Traffic Regulation and Priority',\n",
       "       'Direction of Road', 'Subtype of Accident', 'Subtype of Road Section',\n",
       "       'Subzone within Area', 'Road Surface Conditions', 'Type of Road',\n",
       "       'Road Ownership', 'Wind Conditions', 'Day of the Week Grouping',\n",
       "       'Hour of Day', 'Time of Day Grouping', 'Type of Accident', 'Day Type',\n",
       "       'Day', 'Month'],\n",
       "      dtype='object')"
      ]
     },
     "execution_count": 5,
     "metadata": {},
     "output_type": "execute_result"
    }
   ],
   "source": [
    "df.columns"
   ]
  },
  {
   "cell_type": "code",
   "execution_count": 6,
   "metadata": {},
   "outputs": [],
   "source": [
    "X = df[numerical_cols].drop(['Total Victims'], axis=1)  # Drop non-feature columns\n",
    "y = df[numerical_cols]['Total Victims']  #"
   ]
  },
  {
   "cell_type": "code",
   "execution_count": 7,
   "metadata": {},
   "outputs": [],
   "source": [
    "X_train, X_test, y_train, y_test = train_test_split(X, y, test_size=0.2, shuffle=False)  # Notice shuffle=False for time series"
   ]
  },
  {
   "cell_type": "code",
   "execution_count": 8,
   "metadata": {},
   "outputs": [],
   "source": [
    "X_train_scaled = X_train\n",
    "X_test_scaled = X_test"
   ]
  },
  {
   "cell_type": "code",
   "execution_count": 9,
   "metadata": {},
   "outputs": [
    {
     "name": "stderr",
     "output_type": "stream",
     "text": [
      "  0%|          | 0/42 [00:00<?, ?it/s]"
     ]
    },
    {
     "name": "stderr",
     "output_type": "stream",
     "text": [
      " 98%|█████████▊| 41/42 [08:34<00:05,  5.54s/it]"
     ]
    },
    {
     "name": "stdout",
     "output_type": "stream",
     "text": [
      "[LightGBM] [Info] Auto-choosing row-wise multi-threading, the overhead of testing was 0.001965 seconds.\n",
      "You can set `force_row_wise=true` to remove the overhead.\n",
      "And if memory is not enough, you can set `force_col_wise=true`.\n",
      "[LightGBM] [Info] Total Bins 588\n",
      "[LightGBM] [Info] Number of data points in the train set: 16881, number of used features: 49\n",
      "[LightGBM] [Info] Start training from score 1.549553\n"
     ]
    },
    {
     "name": "stderr",
     "output_type": "stream",
     "text": [
      "100%|██████████| 42/42 [08:34<00:00, 12.26s/it]\n"
     ]
    }
   ],
   "source": [
    "reg = LazyRegressor(verbose=0, ignore_warnings=True, custom_metric=None)\n",
    "models, predictions = reg.fit(X_train_scaled, X_test_scaled, y_train, y_test)"
   ]
  },
  {
   "cell_type": "code",
   "execution_count": 10,
   "metadata": {},
   "outputs": [
    {
     "name": "stdout",
     "output_type": "stream",
     "text": [
      "                               Adjusted R-Squared  R-Squared  RMSE  Time Taken\n",
      "Model                                                                         \n",
      "LassoLarsIC                                  1.00       1.00  0.00        0.11\n",
      "LarsCV                                       1.00       1.00  0.00        0.14\n",
      "OrthogonalMatchingPursuit                    1.00       1.00  0.00        0.07\n",
      "OrthogonalMatchingPursuitCV                  1.00       1.00  0.00        0.14\n",
      "LassoLarsCV                                  1.00       1.00  0.00        0.13\n",
      "Lars                                         1.00       1.00  0.00        0.08\n",
      "LinearSVR                                    1.00       1.00  0.00        0.10\n",
      "BayesianRidge                                1.00       1.00  0.00        0.10\n",
      "RidgeCV                                      1.00       1.00  0.00        0.12\n",
      "Ridge                                        1.00       1.00  0.00        0.06\n",
      "SGDRegressor                                 1.00       1.00  0.00        0.08\n",
      "LinearRegression                             1.00       1.00  0.00        0.09\n",
      "TransformedTargetRegressor                   1.00       1.00  0.00        0.08\n",
      "LassoCV                                      1.00       1.00  0.00        0.38\n",
      "ElasticNetCV                                 1.00       1.00  0.00        0.38\n",
      "RANSACRegressor                              1.00       1.00  0.03        0.32\n",
      "PassiveAggressiveRegressor                   1.00       1.00  0.03        0.08\n",
      "HuberRegressor                               1.00       1.00  0.04        1.37\n",
      "GradientBoostingRegressor                    1.00       1.00  0.04        2.66\n",
      "ExtraTreesRegressor                          1.00       1.00  0.07        3.48\n",
      "MLPRegressor                                 1.00       1.00  0.07        4.16\n",
      "BaggingRegressor                             0.99       0.99  0.08        0.46\n",
      "RandomForestRegressor                        0.99       0.99  0.08        3.61\n",
      "XGBRegressor                                 0.99       0.99  0.10        0.29\n",
      "DecisionTreeRegressor                        0.99       0.99  0.11        0.11\n",
      "HistGradientBoostingRegressor                0.98       0.98  0.14        0.76\n",
      "LGBMRegressor                                0.95       0.95  0.23        0.34\n",
      "NuSVR                                        0.88       0.88  0.35      405.99\n",
      "SVR                                          0.87       0.87  0.37        8.35\n",
      "TweedieRegressor                             0.79       0.79  0.46        0.08\n",
      "GammaRegressor                               0.69       0.69  0.57        0.17\n",
      "PoissonRegressor                             0.67       0.67  0.58        0.07\n",
      "KNeighborsRegressor                          0.65       0.65  0.60        0.25\n",
      "ElasticNet                                   0.49       0.50  0.72        0.08\n",
      "ExtraTreeRegressor                           0.35       0.35  0.82        0.10\n",
      "Lasso                                        0.12       0.13  0.95        0.08\n",
      "LassoLars                                    0.12       0.13  0.95        0.08\n",
      "AdaBoostRegressor                           -0.02      -0.00  1.02        1.92\n",
      "DummyRegressor                              -0.02      -0.01  1.02        0.06\n",
      "KernelRidge                                 -1.33      -1.30  1.55       20.39\n",
      "GaussianProcessRegressor                    -1.85      -1.82  1.71       57.37\n"
     ]
    }
   ],
   "source": [
    "print(models)"
   ]
  },
  {
   "cell_type": "code",
   "execution_count": null,
   "metadata": {},
   "outputs": [],
   "source": []
  }
 ],
 "metadata": {
  "kernelspec": {
   "display_name": "Python 3",
   "language": "python",
   "name": "python3"
  },
  "language_info": {
   "codemirror_mode": {
    "name": "ipython",
    "version": 3
   },
   "file_extension": ".py",
   "mimetype": "text/x-python",
   "name": "python",
   "nbconvert_exporter": "python",
   "pygments_lexer": "ipython3",
   "version": "3.9.13"
  }
 },
 "nbformat": 4,
 "nbformat_minor": 2
}
